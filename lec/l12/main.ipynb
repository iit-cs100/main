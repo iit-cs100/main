{
 "cells": [
  {
   "cell_type": "markdown",
   "metadata": {
    "slideshow": {
     "slide_type": "slide"
    }
   },
   "source": [
    "# CS100: Introduction to the Profession\n",
    "\n",
    "**Artificial Intelligence Lab**\n",
    "\n",
    "**Aron Culotta**  \n",
    "**Illinois Institute of Technology**"
   ]
  },
  {
   "cell_type": "markdown",
   "metadata": {},
   "source": [
    "Today, we'll use machine learning to discover an algorithm to win a game.\n",
    "\n",
    "\n",
    "### The game: Nim\n",
    "\n",
    "- Start with 5 marbles\n",
    "- Human take turns removing 1, 2, or 3 marbles \n",
    "- Computer then takes a turn\n",
    "\n",
    "** Whoever takes the last marble loses.**\n",
    "\n",
    "E.g.:\n",
    "\n",
    "1:\n",
    "$\n",
    "\\Huge \\circ \\Huge \\circ \\Huge \\circ \\Huge \\circ \\Huge \\circ\n",
    "$\n",
    "\n",
    "human takes three marbles\n",
    "\n",
    "2:\n",
    "$\n",
    "\\Huge \\circ \\Huge \\circ \n",
    "$\n",
    "\n",
    "computer takes one marble\n",
    "\n",
    "3:\n",
    "$\n",
    "\\Huge \\circ\n",
    "$\n",
    "\n",
    "human takes last marble $\\rightarrow$ **human loses**\n",
    "\n",
    "\n",
    "## Setup\n",
    "\n",
    "You have rubberbands of three different colors. These represent the actions of the computer:\n",
    "\n",
    "- **Red:** Remove 3 marbles\n",
    "- **Blue:** Remove 2 marbles\n",
    "- **Yellow:** Remove 1 marble\n",
    "\n",
    "We also need to represent the \"state\" of the game, which is how many marbles are left.\n",
    "\n",
    "Assuming the human goes first, there are only three states to consider:\n",
    "\n",
    "- 4 marbles left\n",
    "- 3 marbles left\n",
    "- 2 marbles left\n",
    "\n",
    "(if only one left, computer lost)\n",
    "\n",
    "To represent these states, take a sheet of paper and draw three big circles around the numbers 2,3, and 4.\n",
    "\n",
    "\n",
    "** For the computer to move:**\n",
    "\n",
    "1. Select the circle matching the state of the game.\n",
    "2. Close your eyes and randomly pick a rubberband from that circle.\n",
    "\n",
    "\n",
    "## Initialize the choices\n",
    "\n",
    "We will start by placing one rubberband of each color in each circle.  \n",
    "Thus, the computer's initial strategy is random.\n",
    "\n",
    "## Reinforcement\n",
    "\n",
    "To have the computer learn, we use the following reinforcement:\n",
    "\n",
    "- If the computer makes a move that loses the game, remove that color from the state circle.\n",
    "- If the computer makes a move that wins the game, add another rubberband of the same color to that circle."
   ]
  },
  {
   "cell_type": "markdown",
   "metadata": {},
   "source": [
    "** sources **\n",
    "- [HackerNoon](https://hackernoon.com/coding-artificial-intelligence-and-machine-learning-with-kids-using-starbursts-3407e68de4cd)"
   ]
  },
  {
   "cell_type": "code",
   "execution_count": 1,
   "metadata": {},
   "outputs": [
    {
     "data": {
      "application/javascript": [
       "IPython.notebook.set_autosave_interval(0)"
      ]
     },
     "metadata": {},
     "output_type": "display_data"
    },
    {
     "name": "stdout",
     "output_type": "stream",
     "text": [
      "Autosave disabled\n"
     ]
    }
   ],
   "source": [
    "# for custom notebook formatting.\n",
    "from IPython.core.display import HTML\n",
    "HTML(open('../custom.css').read())\n",
    "%autosave 0"
   ]
  }
 ],
 "metadata": {
  "kernelspec": {
   "display_name": "Python 3",
   "language": "python",
   "name": "python3"
  },
  "language_info": {
   "codemirror_mode": {
    "name": "ipython",
    "version": 3
   },
   "file_extension": ".py",
   "mimetype": "text/x-python",
   "name": "python",
   "nbconvert_exporter": "python",
   "pygments_lexer": "ipython3",
   "version": "3.7.0"
  }
 },
 "nbformat": 4,
 "nbformat_minor": 1
}
