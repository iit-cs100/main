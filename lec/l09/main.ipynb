{
 "cells": [
  {
   "cell_type": "markdown",
   "metadata": {},
   "source": [
    "<br><br>\n",
    "\n",
    "## CS100: Introduction to the Profession\n",
    "### Data\n",
    "<br>\n",
    "**Aron Culotta**  \n",
    "**Illinois Institute of Technology**  \n",
    "\n",
    "<br><br><br><br>\n"
   ]
  },
  {
   "cell_type": "markdown",
   "metadata": {},
   "source": [
    "## What is data?\n",
    "\n",
    "\n",
    "<br><br><br>\n",
    "- Examples of data in your everyday life?\n",
    "\n",
    "\n",
    "<br><br><br><br><br>\n",
    "- Let's look at some objects [here](https://docs.google.com/presentation/d/154SKlHiMxWs9r0deCJ4lFvpNlWOJHZY0VI01geWIlDE/edit#slide=id.ga070b69b7_0_0)\n",
    "  - What is the largest group of people that could understand each object\n",
    "  \n",
    "  - Are any of these universal? (aliens could understand?)\n",
    "  \n",
    "<br><br><br><br><br>\n",
    "- Message to space: [Arecibo Message](https://docs.google.com/presentation/d/13_dOcvRxfosO7YFuCOaCqG4eNY4XoZaxVRzlbfAja3k/edit#slide=id.ga070e403b_0_50)\n",
    "  - binary message (think Morse Code, or a message using only 1’s and 0’s as information, except with radio waves instead of sound waves or numbers) sent into space by the Arecibo Telescope in 1974 to tell other life forms about humanity.\n",
    "  - What did they send?\n",
    "  - What would you have sent?\n",
    "  - Was this effective?\n",
    "  - How to improve it? \n",
    "  "
   ]
  },
  {
   "cell_type": "markdown",
   "metadata": {},
   "source": [
    "## Data\n",
    "\n",
    "- Many ways to encode it.\n",
    "- Need an unambiguous system\n",
    "\n",
    "<br><br><br>\n",
    "**Example:** How does a computer store an integer?\n",
    "\n",
    "<br><br><br>\n",
    "How can we use electricity to store numbers?\n",
    "<br>\n",
    "\n",
    "One way:\n",
    "  - Voltage == numbers\n",
    "  - e.g., 120 volts == the number 120\n",
    "![voltage](https://upload.wikimedia.org/wikipedia/commons/1/1f/9VBatteryWithMeter.jpg)\n",
    "  - what's wrong with this?\n",
    "  \n",
    "<br><br><br><br>\n",
    "\n",
    "Another way:\n",
    "  - A light bulb: on or off\n",
    "  \n",
    "![lb](http://www.clker.com/cliparts/E/e/G/3/m/V/idea-light-bulb-md.png)\n",
    "  - only stores 1 or 0\n",
    "  \n",
    "<br><br><br><br>\n",
    "\n",
    "Yet another way:\n",
    "  - a **three-way** light bulb\n",
    "![lb3](https://www.cs.hmc.edu/csforall/_images/threelight.PNG)\n",
    "Four switch positions: \n",
    " - off, and three increasing brightness levels.\n",
    " - Internally, a three-way bulb has two filaments, one dim and one bright. \n",
    "   - For example, one might be 50 watts, and the other 100. \n",
    " - By choosing neither of them, one, the other, or both, we can get 0, 50, 100, or 150 watts worth of light. \n",
    " \n",
    "\n",
    "|50 | 100 |  watts | number|\n",
    "|--|----|-------|\n",
    "|0 | 0 | 0 | 0 |\n",
    "|1 | 0 | 50  | 1|\n",
    "|0 | 1 | 100 | 2 |\n",
    "| 1 | 1 | 150  | 3 |\n",
    "\n",
    " We could use that bulb to represent the numbers 0, 50, 100, and 150 or we could decide that the four levels represent the numbers 0, 1, 2, and 3.\n",
    " \n",
    " \n",
    "> Internally, a computer uses this same idea to represent integers. Instead of using 50, 100, and 200, as in our illuminating example above, computers use combinations of numbers that are powers of 2. Let’s imagine that we have a bulb with a 20-watt filament, a 21-watt filament, and a 22-watt filament. Then we could make the number 0 by turning none of the filaments on, we could make 1 by turning on only the 20-watt filament, we could make 2 by turning on the 21-watt filament, and so forth, up to 20+21+22=7 using all three filaments.\n",
    "\n",
    "Imagine now that we had the following four consecutive powers of 2 available to us: \n",
    "  - $2^0,2^1,2^2,2^3$. \n",
    "  \n",
    "Try to write the numbers 0, 1, 2, and so forth as high as you can go by using zero or one of each of these powers of 2. \n",
    "\n",
    "<br><br><br><br><br>\n",
    "E.g., \n",
    "\n",
    "$13 = 2^0+ 2^2  + 2^3$\n",
    "\n",
    "can also write as\n",
    "\n",
    "$13 = 1*2^3  + 1*2^2 + 0*2^1 + 1*2^0$\n",
    "- 0 and 1 are coefficients of each power of 2\n",
    "- These are called **bits** (<u>bi</u>nary digi<u>ts</u>)\n",
    "- As a short-hand, we can abbreviate 13 as:\n",
    "  - $1101$\n",
    "  \n",
    "This is a binary representation. \n",
    "- \"Base\" 2 representation\n",
    "\n",
    "We are more used to base-10 representation:\n",
    "\n",
    "$603=6*10^2 + 0*10^1 + 3 * 10^0$\n",
    "\n",
    "\n",
    "<br><br>\n",
    "How big of a number can we represent with 3 digits?\n",
    "- with 4 digits?\n",
    "- with $n$ digits?\n",
    "\n",
    "<br><br><br>\n",
    "$2^n - 1$\n",
    "\n",
    "<br><br>\n",
    "- Older computers used 32 bits: $2^{32} - 1= 4,294,967,295$ possible numbers\n",
    "- Newer computers use 64 bits: $2^{64} \\approx 18$ quadrillion (15 zeros) possible numbers\n",
    "\n"
   ]
  },
  {
   "cell_type": "markdown",
   "metadata": {},
   "source": [
    "**sources**\n",
    "- [HMC](https://www.cs.hmc.edu/csforall/ComputerOrganization/ComputerOrganization.html)\n",
    "- [Google](https://docs.google.com/document/d/1XaxNBt9Vwnv8Bm83I9XP3oci4CfbizFvY79est3lD6s/edit#)"
   ]
  },
  {
   "cell_type": "code",
   "execution_count": 6,
   "metadata": {},
   "outputs": [
    {
     "data": {
      "application/javascript": [
       "IPython.notebook.set_autosave_interval(0)"
      ]
     },
     "metadata": {},
     "output_type": "display_data"
    },
    {
     "name": "stdout",
     "output_type": "stream",
     "text": [
      "Autosave disabled\n"
     ]
    }
   ],
   "source": [
    "# for custom notebook formatting.\n",
    "from IPython.core.display import HTML\n",
    "HTML(open('../custom.css').read())\n",
    "%autosave 0"
   ]
  }
 ],
 "metadata": {
  "kernelspec": {
   "display_name": "Python 3",
   "language": "python",
   "name": "python3"
  },
  "language_info": {
   "codemirror_mode": {
    "name": "ipython",
    "version": 3
   },
   "file_extension": ".py",
   "mimetype": "text/x-python",
   "name": "python",
   "nbconvert_exporter": "python",
   "pygments_lexer": "ipython3",
   "version": "3.7.0"
  }
 },
 "nbformat": 4,
 "nbformat_minor": 2
}
